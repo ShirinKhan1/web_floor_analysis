{
 "cells": [
  {
   "cell_type": "code",
   "execution_count": 68,
   "id": "initial_id",
   "metadata": {
    "collapsed": true,
    "ExecuteTime": {
     "end_time": "2024-05-26T14:08:39.075806900Z",
     "start_time": "2024-05-26T14:08:39.057294400Z"
    }
   },
   "outputs": [],
   "source": [
    "from sklearn.preprocessing import LabelEncoder\n",
    "import math\n",
    "import pandas as pd\n",
    "from sklearn.linear_model import LinearRegression\n",
    "from sklearn.preprocessing import OneHotEncoder\n",
    "from sklearn.model_selection import train_test_split\n",
    "from sklearn.metrics import mean_squared_error, r2_score, explained_variance_score\n",
    "from sklearn.ensemble import GradientBoostingRegressor\n",
    "import matplotlib.pyplot as plt"
   ]
  },
  {
   "cell_type": "code",
   "outputs": [],
   "source": [
    "df = pd.read_csv('fixed_floats.csv')"
   ],
   "metadata": {
    "collapsed": false,
    "ExecuteTime": {
     "end_time": "2024-05-26T14:08:39.136104500Z",
     "start_time": "2024-05-26T14:08:39.077806Z"
    }
   },
   "id": "141840af3eb5c6ce",
   "execution_count": 69
  },
  {
   "cell_type": "code",
   "outputs": [],
   "source": [
    "columns = ['totalarea', 'cntroom', 'district', 'long', 'ceiling', 'kitchenarea', 'width', 'maxfloor', 'livingarea']\n",
    "target = ['price2',]\n",
    "TARGET_NAME = 'price2'"
   ],
   "metadata": {
    "collapsed": false,
    "ExecuteTime": {
     "end_time": "2024-05-26T14:08:39.160022200Z",
     "start_time": "2024-05-26T14:08:39.138410500Z"
    }
   },
   "id": "3f7c31d89a695d06",
   "execution_count": 70
  },
  {
   "cell_type": "code",
   "outputs": [],
   "source": [
    "df = df[target+columns]"
   ],
   "metadata": {
    "collapsed": false,
    "ExecuteTime": {
     "end_time": "2024-05-26T14:08:39.183846600Z",
     "start_time": "2024-05-26T14:08:39.141924900Z"
    }
   },
   "id": "7ba84d02099f53e",
   "execution_count": 71
  },
  {
   "cell_type": "code",
   "outputs": [
    {
     "data": {
      "text/plain": "       price2  totalarea  cntroom district       long  ceiling  kitchenarea  \\\n0     1064516      93.00        3      ЦАО  37.543138      NaN          NaN   \n1      532602      90.50        3      ЗАО  37.428486     3.20          7.7   \n2      211441     236.00        4      ЗАО  37.443533     3.00         20.0   \n3      561798      89.00        4      ЗАО  37.443533     3.00         16.0   \n4      458716     109.00        4      ЗАО  37.443533     3.10         18.0   \n...       ...        ...      ...      ...        ...      ...          ...   \n4181   470803      84.20        3     СВАО  37.624687     3.24          NaN   \n4182   446000      89.40        3     СЗАО  37.467904     3.24          NaN   \n4183   378268     111.78        3      ЦАО  37.526609     3.10         16.0   \n4184   670933      65.30        3     СЗАО  37.516036     3.02         25.8   \n4185   577069      76.40        3     СВАО  37.597252     3.00          NaN   \n\n          width  maxfloor  livingarea  \n0     55.754031        24        74.0  \n1     55.542115        10        43.8  \n2     55.728003        25       180.0  \n3     55.728003        39        48.0  \n4     55.728003        39        62.0  \n...         ...       ...         ...  \n4181  55.796977        44         NaN  \n4182  55.773236         6         NaN  \n4183  55.752116        41        45.4  \n4184  55.760646        32        27.4  \n4185  55.798723        22         NaN  \n\n[4186 rows x 10 columns]",
      "text/html": "<div>\n<style scoped>\n    .dataframe tbody tr th:only-of-type {\n        vertical-align: middle;\n    }\n\n    .dataframe tbody tr th {\n        vertical-align: top;\n    }\n\n    .dataframe thead th {\n        text-align: right;\n    }\n</style>\n<table border=\"1\" class=\"dataframe\">\n  <thead>\n    <tr style=\"text-align: right;\">\n      <th></th>\n      <th>price2</th>\n      <th>totalarea</th>\n      <th>cntroom</th>\n      <th>district</th>\n      <th>long</th>\n      <th>ceiling</th>\n      <th>kitchenarea</th>\n      <th>width</th>\n      <th>maxfloor</th>\n      <th>livingarea</th>\n    </tr>\n  </thead>\n  <tbody>\n    <tr>\n      <th>0</th>\n      <td>1064516</td>\n      <td>93.00</td>\n      <td>3</td>\n      <td>ЦАО</td>\n      <td>37.543138</td>\n      <td>NaN</td>\n      <td>NaN</td>\n      <td>55.754031</td>\n      <td>24</td>\n      <td>74.0</td>\n    </tr>\n    <tr>\n      <th>1</th>\n      <td>532602</td>\n      <td>90.50</td>\n      <td>3</td>\n      <td>ЗАО</td>\n      <td>37.428486</td>\n      <td>3.20</td>\n      <td>7.7</td>\n      <td>55.542115</td>\n      <td>10</td>\n      <td>43.8</td>\n    </tr>\n    <tr>\n      <th>2</th>\n      <td>211441</td>\n      <td>236.00</td>\n      <td>4</td>\n      <td>ЗАО</td>\n      <td>37.443533</td>\n      <td>3.00</td>\n      <td>20.0</td>\n      <td>55.728003</td>\n      <td>25</td>\n      <td>180.0</td>\n    </tr>\n    <tr>\n      <th>3</th>\n      <td>561798</td>\n      <td>89.00</td>\n      <td>4</td>\n      <td>ЗАО</td>\n      <td>37.443533</td>\n      <td>3.00</td>\n      <td>16.0</td>\n      <td>55.728003</td>\n      <td>39</td>\n      <td>48.0</td>\n    </tr>\n    <tr>\n      <th>4</th>\n      <td>458716</td>\n      <td>109.00</td>\n      <td>4</td>\n      <td>ЗАО</td>\n      <td>37.443533</td>\n      <td>3.10</td>\n      <td>18.0</td>\n      <td>55.728003</td>\n      <td>39</td>\n      <td>62.0</td>\n    </tr>\n    <tr>\n      <th>...</th>\n      <td>...</td>\n      <td>...</td>\n      <td>...</td>\n      <td>...</td>\n      <td>...</td>\n      <td>...</td>\n      <td>...</td>\n      <td>...</td>\n      <td>...</td>\n      <td>...</td>\n    </tr>\n    <tr>\n      <th>4181</th>\n      <td>470803</td>\n      <td>84.20</td>\n      <td>3</td>\n      <td>СВАО</td>\n      <td>37.624687</td>\n      <td>3.24</td>\n      <td>NaN</td>\n      <td>55.796977</td>\n      <td>44</td>\n      <td>NaN</td>\n    </tr>\n    <tr>\n      <th>4182</th>\n      <td>446000</td>\n      <td>89.40</td>\n      <td>3</td>\n      <td>СЗАО</td>\n      <td>37.467904</td>\n      <td>3.24</td>\n      <td>NaN</td>\n      <td>55.773236</td>\n      <td>6</td>\n      <td>NaN</td>\n    </tr>\n    <tr>\n      <th>4183</th>\n      <td>378268</td>\n      <td>111.78</td>\n      <td>3</td>\n      <td>ЦАО</td>\n      <td>37.526609</td>\n      <td>3.10</td>\n      <td>16.0</td>\n      <td>55.752116</td>\n      <td>41</td>\n      <td>45.4</td>\n    </tr>\n    <tr>\n      <th>4184</th>\n      <td>670933</td>\n      <td>65.30</td>\n      <td>3</td>\n      <td>СЗАО</td>\n      <td>37.516036</td>\n      <td>3.02</td>\n      <td>25.8</td>\n      <td>55.760646</td>\n      <td>32</td>\n      <td>27.4</td>\n    </tr>\n    <tr>\n      <th>4185</th>\n      <td>577069</td>\n      <td>76.40</td>\n      <td>3</td>\n      <td>СВАО</td>\n      <td>37.597252</td>\n      <td>3.00</td>\n      <td>NaN</td>\n      <td>55.798723</td>\n      <td>22</td>\n      <td>NaN</td>\n    </tr>\n  </tbody>\n</table>\n<p>4186 rows × 10 columns</p>\n</div>"
     },
     "execution_count": 72,
     "metadata": {},
     "output_type": "execute_result"
    }
   ],
   "source": [
    "df"
   ],
   "metadata": {
    "collapsed": false,
    "ExecuteTime": {
     "end_time": "2024-05-26T14:08:39.186847300Z",
     "start_time": "2024-05-26T14:08:39.163022700Z"
    }
   },
   "id": "3c838b46878cb198",
   "execution_count": 72
  },
  {
   "cell_type": "code",
   "outputs": [
    {
     "name": "stdout",
     "output_type": "stream",
     "text": [
      "<class 'pandas.core.frame.DataFrame'>\n",
      "RangeIndex: 4186 entries, 0 to 4185\n",
      "Data columns (total 10 columns):\n",
      " #   Column       Non-Null Count  Dtype  \n",
      "---  ------       --------------  -----  \n",
      " 0   price2       4186 non-null   int64  \n",
      " 1   totalarea    4186 non-null   float64\n",
      " 2   cntroom      4186 non-null   int64  \n",
      " 3   district     4186 non-null   object \n",
      " 4   long         4186 non-null   float64\n",
      " 5   ceiling      3077 non-null   float64\n",
      " 6   kitchenarea  3204 non-null   float64\n",
      " 7   width        4186 non-null   float64\n",
      " 8   maxfloor     4186 non-null   int64  \n",
      " 9   livingarea   2985 non-null   float64\n",
      "dtypes: float64(6), int64(3), object(1)\n",
      "memory usage: 327.2+ KB\n"
     ]
    }
   ],
   "source": [
    "df.info()"
   ],
   "metadata": {
    "collapsed": false,
    "ExecuteTime": {
     "end_time": "2024-05-26T14:08:39.226354400Z",
     "start_time": "2024-05-26T14:08:39.187846200Z"
    }
   },
   "id": "9abdbd37587a3cda",
   "execution_count": 73
  },
  {
   "cell_type": "code",
   "outputs": [],
   "source": [
    "df.ceiling.fillna(df.ceiling.mean(), inplace=True)"
   ],
   "metadata": {
    "collapsed": false,
    "ExecuteTime": {
     "end_time": "2024-05-26T14:08:39.228354100Z",
     "start_time": "2024-05-26T14:08:39.210902Z"
    }
   },
   "id": "1a01985b289770b8",
   "execution_count": 74
  },
  {
   "cell_type": "code",
   "outputs": [
    {
     "data": {
      "text/plain": "3.03452713682158"
     },
     "execution_count": 75,
     "metadata": {},
     "output_type": "execute_result"
    }
   ],
   "source": [
    "df.ceiling.mean()"
   ],
   "metadata": {
    "collapsed": false,
    "ExecuteTime": {
     "end_time": "2024-05-26T14:08:39.298551600Z",
     "start_time": "2024-05-26T14:08:39.230354700Z"
    }
   },
   "id": "437928cb42a0d137",
   "execution_count": 75
  },
  {
   "cell_type": "code",
   "outputs": [],
   "source": [
    "df['kitchenarea'] = df.groupby('cntroom')['kitchenarea'].transform(lambda x: x.fillna(x.mean()))\n"
   ],
   "metadata": {
    "collapsed": false,
    "ExecuteTime": {
     "end_time": "2024-05-26T14:08:39.328706100Z",
     "start_time": "2024-05-26T14:08:39.300551200Z"
    }
   },
   "id": "2bd24e97c2636e23",
   "execution_count": 76
  },
  {
   "cell_type": "code",
   "outputs": [
    {
     "data": {
      "text/plain": "cntroom\n0     5.741776\n1    11.714002\n2    12.645207\n3    18.119613\n4    19.729673\n5    22.580870\nName: kitchenarea, dtype: float64"
     },
     "execution_count": 77,
     "metadata": {},
     "output_type": "execute_result"
    }
   ],
   "source": [
    "df.groupby('cntroom')['kitchenarea'].agg('mean')"
   ],
   "metadata": {
    "collapsed": false,
    "ExecuteTime": {
     "end_time": "2024-05-26T14:08:39.356560500Z",
     "start_time": "2024-05-26T14:08:39.307975900Z"
    }
   },
   "id": "b45f9dc0788b5448",
   "execution_count": 77
  },
  {
   "cell_type": "code",
   "outputs": [],
   "source": [
    "df['livingarea'] = df.groupby('cntroom')['livingarea'].transform(lambda x: x.fillna(x.mean()))\n"
   ],
   "metadata": {
    "collapsed": false,
    "ExecuteTime": {
     "end_time": "2024-05-26T14:08:39.358561300Z",
     "start_time": "2024-05-26T14:08:39.326701700Z"
    }
   },
   "id": "f7bdeaa522770963",
   "execution_count": 78
  },
  {
   "cell_type": "code",
   "outputs": [
    {
     "data": {
      "text/plain": "cntroom\n0     13.866038\n1     17.308859\n2     30.701434\n3     61.037017\n4     79.482310\n5    114.412150\nName: livingarea, dtype: float64"
     },
     "execution_count": 79,
     "metadata": {},
     "output_type": "execute_result"
    }
   ],
   "source": [
    "df.groupby('cntroom')['livingarea'].agg('mean')"
   ],
   "metadata": {
    "collapsed": false,
    "ExecuteTime": {
     "end_time": "2024-05-26T14:08:39.372097Z",
     "start_time": "2024-05-26T14:08:39.336273100Z"
    }
   },
   "id": "78e1e2ed7403a0ad",
   "execution_count": 79
  },
  {
   "cell_type": "code",
   "outputs": [
    {
     "name": "stdout",
     "output_type": "stream",
     "text": [
      "<class 'pandas.core.frame.DataFrame'>\n",
      "RangeIndex: 4186 entries, 0 to 4185\n",
      "Data columns (total 10 columns):\n",
      " #   Column       Non-Null Count  Dtype  \n",
      "---  ------       --------------  -----  \n",
      " 0   price2       4186 non-null   int64  \n",
      " 1   totalarea    4186 non-null   float64\n",
      " 2   cntroom      4186 non-null   int64  \n",
      " 3   district     4186 non-null   object \n",
      " 4   long         4186 non-null   float64\n",
      " 5   ceiling      4186 non-null   float64\n",
      " 6   kitchenarea  4186 non-null   float64\n",
      " 7   width        4186 non-null   float64\n",
      " 8   maxfloor     4186 non-null   int64  \n",
      " 9   livingarea   4186 non-null   float64\n",
      "dtypes: float64(6), int64(3), object(1)\n",
      "memory usage: 327.2+ KB\n"
     ]
    }
   ],
   "source": [
    "df.info()"
   ],
   "metadata": {
    "collapsed": false,
    "ExecuteTime": {
     "end_time": "2024-05-26T14:08:39.406094100Z",
     "start_time": "2024-05-26T14:08:39.365561200Z"
    }
   },
   "id": "a80667e80f81377b",
   "execution_count": 80
  },
  {
   "cell_type": "code",
   "outputs": [],
   "source": [
    "df = pd.get_dummies(df, columns=['district', 'cntroom'])"
   ],
   "metadata": {
    "collapsed": false,
    "ExecuteTime": {
     "end_time": "2024-05-26T14:08:39.422226600Z",
     "start_time": "2024-05-26T14:08:39.409094900Z"
    }
   },
   "id": "453da271860c6175",
   "execution_count": 81
  },
  {
   "cell_type": "code",
   "outputs": [
    {
     "data": {
      "text/plain": "       price2  totalarea       long   ceiling  kitchenarea      width  \\\n0     1064516      93.00  37.543138  3.034527    18.119613  55.754031   \n1      532602      90.50  37.428486  3.200000     7.700000  55.542115   \n2      211441     236.00  37.443533  3.000000    20.000000  55.728003   \n3      561798      89.00  37.443533  3.000000    16.000000  55.728003   \n4      458716     109.00  37.443533  3.100000    18.000000  55.728003   \n...       ...        ...        ...       ...          ...        ...   \n4181   470803      84.20  37.624687  3.240000    18.119613  55.796977   \n4182   446000      89.40  37.467904  3.240000    18.119613  55.773236   \n4183   378268     111.78  37.526609  3.100000    16.000000  55.752116   \n4184   670933      65.30  37.516036  3.020000    25.800000  55.760646   \n4185   577069      76.40  37.597252  3.000000    18.119613  55.798723   \n\n      maxfloor  livingarea  district_ВАО  district_ЗАО  ...  district_ЦАО  \\\n0           24   74.000000             0             0  ...             1   \n1           10   43.800000             0             1  ...             0   \n2           25  180.000000             0             1  ...             0   \n3           39   48.000000             0             1  ...             0   \n4           39   62.000000             0             1  ...             0   \n...        ...         ...           ...           ...  ...           ...   \n4181        44   61.037017             0             0  ...             0   \n4182         6   61.037017             0             0  ...             0   \n4183        41   45.400000             0             0  ...             1   \n4184        32   27.400000             0             0  ...             0   \n4185        22   61.037017             0             0  ...             0   \n\n      district_ЮАО  district_ЮВАО  district_ЮЗАО  cntroom_0  cntroom_1  \\\n0                0              0              0          0          0   \n1                0              0              0          0          0   \n2                0              0              0          0          0   \n3                0              0              0          0          0   \n4                0              0              0          0          0   \n...            ...            ...            ...        ...        ...   \n4181             0              0              0          0          0   \n4182             0              0              0          0          0   \n4183             0              0              0          0          0   \n4184             0              0              0          0          0   \n4185             0              0              0          0          0   \n\n      cntroom_2  cntroom_3  cntroom_4  cntroom_5  \n0             0          1          0          0  \n1             0          1          0          0  \n2             0          0          1          0  \n3             0          0          1          0  \n4             0          0          1          0  \n...         ...        ...        ...        ...  \n4181          0          1          0          0  \n4182          0          1          0          0  \n4183          0          1          0          0  \n4184          0          1          0          0  \n4185          0          1          0          0  \n\n[4186 rows x 23 columns]",
      "text/html": "<div>\n<style scoped>\n    .dataframe tbody tr th:only-of-type {\n        vertical-align: middle;\n    }\n\n    .dataframe tbody tr th {\n        vertical-align: top;\n    }\n\n    .dataframe thead th {\n        text-align: right;\n    }\n</style>\n<table border=\"1\" class=\"dataframe\">\n  <thead>\n    <tr style=\"text-align: right;\">\n      <th></th>\n      <th>price2</th>\n      <th>totalarea</th>\n      <th>long</th>\n      <th>ceiling</th>\n      <th>kitchenarea</th>\n      <th>width</th>\n      <th>maxfloor</th>\n      <th>livingarea</th>\n      <th>district_ВАО</th>\n      <th>district_ЗАО</th>\n      <th>...</th>\n      <th>district_ЦАО</th>\n      <th>district_ЮАО</th>\n      <th>district_ЮВАО</th>\n      <th>district_ЮЗАО</th>\n      <th>cntroom_0</th>\n      <th>cntroom_1</th>\n      <th>cntroom_2</th>\n      <th>cntroom_3</th>\n      <th>cntroom_4</th>\n      <th>cntroom_5</th>\n    </tr>\n  </thead>\n  <tbody>\n    <tr>\n      <th>0</th>\n      <td>1064516</td>\n      <td>93.00</td>\n      <td>37.543138</td>\n      <td>3.034527</td>\n      <td>18.119613</td>\n      <td>55.754031</td>\n      <td>24</td>\n      <td>74.000000</td>\n      <td>0</td>\n      <td>0</td>\n      <td>...</td>\n      <td>1</td>\n      <td>0</td>\n      <td>0</td>\n      <td>0</td>\n      <td>0</td>\n      <td>0</td>\n      <td>0</td>\n      <td>1</td>\n      <td>0</td>\n      <td>0</td>\n    </tr>\n    <tr>\n      <th>1</th>\n      <td>532602</td>\n      <td>90.50</td>\n      <td>37.428486</td>\n      <td>3.200000</td>\n      <td>7.700000</td>\n      <td>55.542115</td>\n      <td>10</td>\n      <td>43.800000</td>\n      <td>0</td>\n      <td>1</td>\n      <td>...</td>\n      <td>0</td>\n      <td>0</td>\n      <td>0</td>\n      <td>0</td>\n      <td>0</td>\n      <td>0</td>\n      <td>0</td>\n      <td>1</td>\n      <td>0</td>\n      <td>0</td>\n    </tr>\n    <tr>\n      <th>2</th>\n      <td>211441</td>\n      <td>236.00</td>\n      <td>37.443533</td>\n      <td>3.000000</td>\n      <td>20.000000</td>\n      <td>55.728003</td>\n      <td>25</td>\n      <td>180.000000</td>\n      <td>0</td>\n      <td>1</td>\n      <td>...</td>\n      <td>0</td>\n      <td>0</td>\n      <td>0</td>\n      <td>0</td>\n      <td>0</td>\n      <td>0</td>\n      <td>0</td>\n      <td>0</td>\n      <td>1</td>\n      <td>0</td>\n    </tr>\n    <tr>\n      <th>3</th>\n      <td>561798</td>\n      <td>89.00</td>\n      <td>37.443533</td>\n      <td>3.000000</td>\n      <td>16.000000</td>\n      <td>55.728003</td>\n      <td>39</td>\n      <td>48.000000</td>\n      <td>0</td>\n      <td>1</td>\n      <td>...</td>\n      <td>0</td>\n      <td>0</td>\n      <td>0</td>\n      <td>0</td>\n      <td>0</td>\n      <td>0</td>\n      <td>0</td>\n      <td>0</td>\n      <td>1</td>\n      <td>0</td>\n    </tr>\n    <tr>\n      <th>4</th>\n      <td>458716</td>\n      <td>109.00</td>\n      <td>37.443533</td>\n      <td>3.100000</td>\n      <td>18.000000</td>\n      <td>55.728003</td>\n      <td>39</td>\n      <td>62.000000</td>\n      <td>0</td>\n      <td>1</td>\n      <td>...</td>\n      <td>0</td>\n      <td>0</td>\n      <td>0</td>\n      <td>0</td>\n      <td>0</td>\n      <td>0</td>\n      <td>0</td>\n      <td>0</td>\n      <td>1</td>\n      <td>0</td>\n    </tr>\n    <tr>\n      <th>...</th>\n      <td>...</td>\n      <td>...</td>\n      <td>...</td>\n      <td>...</td>\n      <td>...</td>\n      <td>...</td>\n      <td>...</td>\n      <td>...</td>\n      <td>...</td>\n      <td>...</td>\n      <td>...</td>\n      <td>...</td>\n      <td>...</td>\n      <td>...</td>\n      <td>...</td>\n      <td>...</td>\n      <td>...</td>\n      <td>...</td>\n      <td>...</td>\n      <td>...</td>\n      <td>...</td>\n    </tr>\n    <tr>\n      <th>4181</th>\n      <td>470803</td>\n      <td>84.20</td>\n      <td>37.624687</td>\n      <td>3.240000</td>\n      <td>18.119613</td>\n      <td>55.796977</td>\n      <td>44</td>\n      <td>61.037017</td>\n      <td>0</td>\n      <td>0</td>\n      <td>...</td>\n      <td>0</td>\n      <td>0</td>\n      <td>0</td>\n      <td>0</td>\n      <td>0</td>\n      <td>0</td>\n      <td>0</td>\n      <td>1</td>\n      <td>0</td>\n      <td>0</td>\n    </tr>\n    <tr>\n      <th>4182</th>\n      <td>446000</td>\n      <td>89.40</td>\n      <td>37.467904</td>\n      <td>3.240000</td>\n      <td>18.119613</td>\n      <td>55.773236</td>\n      <td>6</td>\n      <td>61.037017</td>\n      <td>0</td>\n      <td>0</td>\n      <td>...</td>\n      <td>0</td>\n      <td>0</td>\n      <td>0</td>\n      <td>0</td>\n      <td>0</td>\n      <td>0</td>\n      <td>0</td>\n      <td>1</td>\n      <td>0</td>\n      <td>0</td>\n    </tr>\n    <tr>\n      <th>4183</th>\n      <td>378268</td>\n      <td>111.78</td>\n      <td>37.526609</td>\n      <td>3.100000</td>\n      <td>16.000000</td>\n      <td>55.752116</td>\n      <td>41</td>\n      <td>45.400000</td>\n      <td>0</td>\n      <td>0</td>\n      <td>...</td>\n      <td>1</td>\n      <td>0</td>\n      <td>0</td>\n      <td>0</td>\n      <td>0</td>\n      <td>0</td>\n      <td>0</td>\n      <td>1</td>\n      <td>0</td>\n      <td>0</td>\n    </tr>\n    <tr>\n      <th>4184</th>\n      <td>670933</td>\n      <td>65.30</td>\n      <td>37.516036</td>\n      <td>3.020000</td>\n      <td>25.800000</td>\n      <td>55.760646</td>\n      <td>32</td>\n      <td>27.400000</td>\n      <td>0</td>\n      <td>0</td>\n      <td>...</td>\n      <td>0</td>\n      <td>0</td>\n      <td>0</td>\n      <td>0</td>\n      <td>0</td>\n      <td>0</td>\n      <td>0</td>\n      <td>1</td>\n      <td>0</td>\n      <td>0</td>\n    </tr>\n    <tr>\n      <th>4185</th>\n      <td>577069</td>\n      <td>76.40</td>\n      <td>37.597252</td>\n      <td>3.000000</td>\n      <td>18.119613</td>\n      <td>55.798723</td>\n      <td>22</td>\n      <td>61.037017</td>\n      <td>0</td>\n      <td>0</td>\n      <td>...</td>\n      <td>0</td>\n      <td>0</td>\n      <td>0</td>\n      <td>0</td>\n      <td>0</td>\n      <td>0</td>\n      <td>0</td>\n      <td>1</td>\n      <td>0</td>\n      <td>0</td>\n    </tr>\n  </tbody>\n</table>\n<p>4186 rows × 23 columns</p>\n</div>"
     },
     "execution_count": 82,
     "metadata": {},
     "output_type": "execute_result"
    }
   ],
   "source": [
    "df"
   ],
   "metadata": {
    "collapsed": false,
    "ExecuteTime": {
     "end_time": "2024-05-26T14:08:39.439289900Z",
     "start_time": "2024-05-26T14:08:39.423227500Z"
    }
   },
   "id": "1fbde772da0c0194",
   "execution_count": 82
  },
  {
   "cell_type": "code",
   "outputs": [],
   "source": [
    "df.dropna(inplace=True)"
   ],
   "metadata": {
    "collapsed": false,
    "ExecuteTime": {
     "end_time": "2024-05-26T14:08:39.467723500Z",
     "start_time": "2024-05-26T14:08:39.438290300Z"
    }
   },
   "id": "1b832a5a4ac64be6",
   "execution_count": 83
  },
  {
   "cell_type": "code",
   "outputs": [],
   "source": [
    "data = train_test_split(df.drop([TARGET_NAME], axis=1), df[TARGET_NAME], train_size=0.8, random_state=42)\n",
    "X_train, X_test, y_train, y_test = data"
   ],
   "metadata": {
    "collapsed": false,
    "ExecuteTime": {
     "end_time": "2024-05-26T14:08:39.477847400Z",
     "start_time": "2024-05-26T14:08:39.443265700Z"
    }
   },
   "id": "2dc153d73d6d9922",
   "execution_count": 84
  },
  {
   "cell_type": "code",
   "outputs": [],
   "source": [
    "model = LinearRegression()"
   ],
   "metadata": {
    "collapsed": false,
    "ExecuteTime": {
     "end_time": "2024-05-26T14:08:39.522498800Z",
     "start_time": "2024-05-26T14:08:39.468723700Z"
    }
   },
   "id": "c4dd4cb55c927304",
   "execution_count": 85
  },
  {
   "cell_type": "code",
   "outputs": [
    {
     "data": {
      "text/plain": "LinearRegression()",
      "text/html": "<style>#sk-container-id-5 {color: black;}#sk-container-id-5 pre{padding: 0;}#sk-container-id-5 div.sk-toggleable {background-color: white;}#sk-container-id-5 label.sk-toggleable__label {cursor: pointer;display: block;width: 100%;margin-bottom: 0;padding: 0.3em;box-sizing: border-box;text-align: center;}#sk-container-id-5 label.sk-toggleable__label-arrow:before {content: \"▸\";float: left;margin-right: 0.25em;color: #696969;}#sk-container-id-5 label.sk-toggleable__label-arrow:hover:before {color: black;}#sk-container-id-5 div.sk-estimator:hover label.sk-toggleable__label-arrow:before {color: black;}#sk-container-id-5 div.sk-toggleable__content {max-height: 0;max-width: 0;overflow: hidden;text-align: left;background-color: #f0f8ff;}#sk-container-id-5 div.sk-toggleable__content pre {margin: 0.2em;color: black;border-radius: 0.25em;background-color: #f0f8ff;}#sk-container-id-5 input.sk-toggleable__control:checked~div.sk-toggleable__content {max-height: 200px;max-width: 100%;overflow: auto;}#sk-container-id-5 input.sk-toggleable__control:checked~label.sk-toggleable__label-arrow:before {content: \"▾\";}#sk-container-id-5 div.sk-estimator input.sk-toggleable__control:checked~label.sk-toggleable__label {background-color: #d4ebff;}#sk-container-id-5 div.sk-label input.sk-toggleable__control:checked~label.sk-toggleable__label {background-color: #d4ebff;}#sk-container-id-5 input.sk-hidden--visually {border: 0;clip: rect(1px 1px 1px 1px);clip: rect(1px, 1px, 1px, 1px);height: 1px;margin: -1px;overflow: hidden;padding: 0;position: absolute;width: 1px;}#sk-container-id-5 div.sk-estimator {font-family: monospace;background-color: #f0f8ff;border: 1px dotted black;border-radius: 0.25em;box-sizing: border-box;margin-bottom: 0.5em;}#sk-container-id-5 div.sk-estimator:hover {background-color: #d4ebff;}#sk-container-id-5 div.sk-parallel-item::after {content: \"\";width: 100%;border-bottom: 1px solid gray;flex-grow: 1;}#sk-container-id-5 div.sk-label:hover label.sk-toggleable__label {background-color: #d4ebff;}#sk-container-id-5 div.sk-serial::before {content: \"\";position: absolute;border-left: 1px solid gray;box-sizing: border-box;top: 0;bottom: 0;left: 50%;z-index: 0;}#sk-container-id-5 div.sk-serial {display: flex;flex-direction: column;align-items: center;background-color: white;padding-right: 0.2em;padding-left: 0.2em;position: relative;}#sk-container-id-5 div.sk-item {position: relative;z-index: 1;}#sk-container-id-5 div.sk-parallel {display: flex;align-items: stretch;justify-content: center;background-color: white;position: relative;}#sk-container-id-5 div.sk-item::before, #sk-container-id-5 div.sk-parallel-item::before {content: \"\";position: absolute;border-left: 1px solid gray;box-sizing: border-box;top: 0;bottom: 0;left: 50%;z-index: -1;}#sk-container-id-5 div.sk-parallel-item {display: flex;flex-direction: column;z-index: 1;position: relative;background-color: white;}#sk-container-id-5 div.sk-parallel-item:first-child::after {align-self: flex-end;width: 50%;}#sk-container-id-5 div.sk-parallel-item:last-child::after {align-self: flex-start;width: 50%;}#sk-container-id-5 div.sk-parallel-item:only-child::after {width: 0;}#sk-container-id-5 div.sk-dashed-wrapped {border: 1px dashed gray;margin: 0 0.4em 0.5em 0.4em;box-sizing: border-box;padding-bottom: 0.4em;background-color: white;}#sk-container-id-5 div.sk-label label {font-family: monospace;font-weight: bold;display: inline-block;line-height: 1.2em;}#sk-container-id-5 div.sk-label-container {text-align: center;}#sk-container-id-5 div.sk-container {/* jupyter's `normalize.less` sets `[hidden] { display: none; }` but bootstrap.min.css set `[hidden] { display: none !important; }` so we also need the `!important` here to be able to override the default hidden behavior on the sphinx rendered scikit-learn.org. See: https://github.com/scikit-learn/scikit-learn/issues/21755 */display: inline-block !important;position: relative;}#sk-container-id-5 div.sk-text-repr-fallback {display: none;}</style><div id=\"sk-container-id-5\" class=\"sk-top-container\"><div class=\"sk-text-repr-fallback\"><pre>LinearRegression()</pre><b>In a Jupyter environment, please rerun this cell to show the HTML representation or trust the notebook. <br />On GitHub, the HTML representation is unable to render, please try loading this page with nbviewer.org.</b></div><div class=\"sk-container\" hidden><div class=\"sk-item\"><div class=\"sk-estimator sk-toggleable\"><input class=\"sk-toggleable__control sk-hidden--visually\" id=\"sk-estimator-id-5\" type=\"checkbox\" checked><label for=\"sk-estimator-id-5\" class=\"sk-toggleable__label sk-toggleable__label-arrow\">LinearRegression</label><div class=\"sk-toggleable__content\"><pre>LinearRegression()</pre></div></div></div></div></div>"
     },
     "execution_count": 86,
     "metadata": {},
     "output_type": "execute_result"
    }
   ],
   "source": [
    "model.fit(X_train, y_train)"
   ],
   "metadata": {
    "collapsed": false,
    "ExecuteTime": {
     "end_time": "2024-05-26T14:08:39.569500600Z",
     "start_time": "2024-05-26T14:08:39.499848200Z"
    }
   },
   "id": "45aa0a0a10f603c7",
   "execution_count": 86
  },
  {
   "cell_type": "code",
   "outputs": [],
   "source": [
    "y_pred = model.predict(X_test)"
   ],
   "metadata": {
    "collapsed": false,
    "ExecuteTime": {
     "end_time": "2024-05-26T14:08:39.588275900Z",
     "start_time": "2024-05-26T14:08:39.571501200Z"
    }
   },
   "id": "d7de0b35ba9d5545",
   "execution_count": 87
  },
  {
   "cell_type": "code",
   "outputs": [
    {
     "name": "stdout",
     "output_type": "stream",
     "text": [
      "Root Mean Squared Error (RMSE): 250854.9917\n",
      "R^2 Score: 0.36103612434907006\n"
     ]
    },
    {
     "data": {
      "text/plain": "<Figure size 640x480 with 1 Axes>",
      "image/png": "[encoded data removed]"
     },
     "metadata": {},
     "output_type": "display_data"
    }
   ],
   "source": [
    "mse = mean_squared_error(y_test, y_pred)\n",
    "r2 = r2_score(y_test, y_pred)\n",
    "\n",
    "print(f\"Root Mean Squared Error (RMSE): {math.sqrt(mse):.4f}\")\n",
    "print(f'R^2 Score: {r2}')\n",
    "\n",
    "# Визуализация результатов\n",
    "plt.scatter(y_test, y_pred)\n",
    "plt.xlabel('Actual Prices')\n",
    "plt.ylabel('Predicted Prices')\n",
    "plt.title('Actual vs Predicted Prices')\n",
    "plt.show()"
   ],
   "metadata": {
    "collapsed": false,
    "ExecuteTime": {
     "end_time": "2024-05-26T14:08:39.802751400Z",
     "start_time": "2024-05-26T14:08:39.590276400Z"
    }
   },
   "id": "3d1b617d728370bb",
   "execution_count": 88
  },
  {
   "cell_type": "code",
   "outputs": [],
   "source": [
    "model = GradientBoostingRegressor(n_estimators=100, learning_rate=0.1, max_depth=3, random_state=42)"
   ],
   "metadata": {
    "collapsed": false,
    "ExecuteTime": {
     "end_time": "2024-05-26T14:08:39.802751400Z",
     "start_time": "2024-05-26T14:08:39.800238100Z"
    }
   },
   "id": "b542f3d97d466490",
   "execution_count": 89
  },
  {
   "cell_type": "code",
   "outputs": [
    {
     "data": {
      "text/plain": "GradientBoostingRegressor(random_state=42)",
      "text/html": "<style>#sk-container-id-6 {color: black;}#sk-container-id-6 pre{padding: 0;}#sk-container-id-6 div.sk-toggleable {background-color: white;}#sk-container-id-6 label.sk-toggleable__label {cursor: pointer;display: block;width: 100%;margin-bottom: 0;padding: 0.3em;box-sizing: border-box;text-align: center;}#sk-container-id-6 label.sk-toggleable__label-arrow:before {content: \"▸\";float: left;margin-right: 0.25em;color: #696969;}#sk-container-id-6 label.sk-toggleable__label-arrow:hover:before {color: black;}#sk-container-id-6 div.sk-estimator:hover label.sk-toggleable__label-arrow:before {color: black;}#sk-container-id-6 div.sk-toggleable__content {max-height: 0;max-width: 0;overflow: hidden;text-align: left;background-color: #f0f8ff;}#sk-container-id-6 div.sk-toggleable__content pre {margin: 0.2em;color: black;border-radius: 0.25em;background-color: #f0f8ff;}#sk-container-id-6 input.sk-toggleable__control:checked~div.sk-toggleable__content {max-height: 200px;max-width: 100%;overflow: auto;}#sk-container-id-6 input.sk-toggleable__control:checked~label.sk-toggleable__label-arrow:before {content: \"▾\";}#sk-container-id-6 div.sk-estimator input.sk-toggleable__control:checked~label.sk-toggleable__label {background-color: #d4ebff;}#sk-container-id-6 div.sk-label input.sk-toggleable__control:checked~label.sk-toggleable__label {background-color: #d4ebff;}#sk-container-id-6 input.sk-hidden--visually {border: 0;clip: rect(1px 1px 1px 1px);clip: rect(1px, 1px, 1px, 1px);height: 1px;margin: -1px;overflow: hidden;padding: 0;position: absolute;width: 1px;}#sk-container-id-6 div.sk-estimator {font-family: monospace;background-color: #f0f8ff;border: 1px dotted black;border-radius: 0.25em;box-sizing: border-box;margin-bottom: 0.5em;}#sk-container-id-6 div.sk-estimator:hover {background-color: #d4ebff;}#sk-container-id-6 div.sk-parallel-item::after {content: \"\";width: 100%;border-bottom: 1px solid gray;flex-grow: 1;}#sk-container-id-6 div.sk-label:hover label.sk-toggleable__label {background-color: #d4ebff;}#sk-container-id-6 div.sk-serial::before {content: \"\";position: absolute;border-left: 1px solid gray;box-sizing: border-box;top: 0;bottom: 0;left: 50%;z-index: 0;}#sk-container-id-6 div.sk-serial {display: flex;flex-direction: column;align-items: center;background-color: white;padding-right: 0.2em;padding-left: 0.2em;position: relative;}#sk-container-id-6 div.sk-item {position: relative;z-index: 1;}#sk-container-id-6 div.sk-parallel {display: flex;align-items: stretch;justify-content: center;background-color: white;position: relative;}#sk-container-id-6 div.sk-item::before, #sk-container-id-6 div.sk-parallel-item::before {content: \"\";position: absolute;border-left: 1px solid gray;box-sizing: border-box;top: 0;bottom: 0;left: 50%;z-index: -1;}#sk-container-id-6 div.sk-parallel-item {display: flex;flex-direction: column;z-index: 1;position: relative;background-color: white;}#sk-container-id-6 div.sk-parallel-item:first-child::after {align-self: flex-end;width: 50%;}#sk-container-id-6 div.sk-parallel-item:last-child::after {align-self: flex-start;width: 50%;}#sk-container-id-6 div.sk-parallel-item:only-child::after {width: 0;}#sk-container-id-6 div.sk-dashed-wrapped {border: 1px dashed gray;margin: 0 0.4em 0.5em 0.4em;box-sizing: border-box;padding-bottom: 0.4em;background-color: white;}#sk-container-id-6 div.sk-label label {font-family: monospace;font-weight: bold;display: inline-block;line-height: 1.2em;}#sk-container-id-6 div.sk-label-container {text-align: center;}#sk-container-id-6 div.sk-container {/* jupyter's `normalize.less` sets `[hidden] { display: none; }` but bootstrap.min.css set `[hidden] { display: none !important; }` so we also need the `!important` here to be able to override the default hidden behavior on the sphinx rendered scikit-learn.org. See: https://github.com/scikit-learn/scikit-learn/issues/21755 */display: inline-block !important;position: relative;}#sk-container-id-6 div.sk-text-repr-fallback {display: none;}</style><div id=\"sk-container-id-6\" class=\"sk-top-container\"><div class=\"sk-text-repr-fallback\"><pre>GradientBoostingRegressor(random_state=42)</pre><b>In a Jupyter environment, please rerun this cell to show the HTML representation or trust the notebook. <br />On GitHub, the HTML representation is unable to render, please try loading this page with nbviewer.org.</b></div><div class=\"sk-container\" hidden><div class=\"sk-item\"><div class=\"sk-estimator sk-toggleable\"><input class=\"sk-toggleable__control sk-hidden--visually\" id=\"sk-estimator-id-6\" type=\"checkbox\" checked><label for=\"sk-estimator-id-6\" class=\"sk-toggleable__label sk-toggleable__label-arrow\">GradientBoostingRegressor</label><div class=\"sk-toggleable__content\"><pre>GradientBoostingRegressor(random_state=42)</pre></div></div></div></div></div>"
     },
     "execution_count": 90,
     "metadata": {},
     "output_type": "execute_result"
    }
   ],
   "source": [
    "model.fit(X_train, y_train)"
   ],
   "metadata": {
    "collapsed": false,
    "ExecuteTime": {
     "end_time": "2024-05-26T14:08:40.681557800Z",
     "start_time": "2024-05-26T14:08:39.802751400Z"
    }
   },
   "id": "696c3a14d9ef0fb4",
   "execution_count": 90
  },
  {
   "cell_type": "code",
   "outputs": [],
   "source": [
    "y_pred = model.predict(X_test)"
   ],
   "metadata": {
    "collapsed": false,
    "ExecuteTime": {
     "end_time": "2024-05-26T14:08:40.686377400Z",
     "start_time": "2024-05-26T14:08:40.679557500Z"
    }
   },
   "id": "79f4b6e4acced9d5",
   "execution_count": 91
  },
  {
   "cell_type": "code",
   "outputs": [
    {
     "name": "stdout",
     "output_type": "stream",
     "text": [
      "Root Mean Squared Error (RMSE): 195520.2400\n",
      "R^2 Score: 0.6118368940634479\n"
     ]
    },
    {
     "data": {
      "text/plain": "<Figure size 640x480 with 1 Axes>",
      "image/png": "[encoded data removed]"
     },
     "metadata": {},
     "output_type": "display_data"
    }
   ],
   "source": [
    "mse = mean_squared_error(y_test, y_pred)\n",
    "r2 = r2_score(y_test, y_pred)\n",
    "\n",
    "print(f\"Root Mean Squared Error (RMSE): {math.sqrt(mse):.4f}\")\n",
    "print(f'R^2 Score: {r2}')\n",
    "\n",
    "# Визуализация результатов\n",
    "plt.scatter(y_test, y_pred)\n",
    "plt.xlabel('Actual Prices')\n",
    "plt.ylabel('Predicted Prices')\n",
    "plt.title('Actual vs Predicted Prices')\n",
    "plt.show()"
   ],
   "metadata": {
    "collapsed": false,
    "ExecuteTime": {
     "end_time": "2024-05-26T14:08:41.059568600Z",
     "start_time": "2024-05-26T14:08:40.686377400Z"
    }
   },
   "id": "47f0eb07be2d8442",
   "execution_count": 92
  },
  {
   "cell_type": "code",
   "outputs": [],
   "source": [
    "import pickle "
   ],
   "metadata": {
    "collapsed": false,
    "ExecuteTime": {
     "end_time": "2024-05-26T14:08:41.061567700Z",
     "start_time": "2024-05-26T14:08:41.056897800Z"
    }
   },
   "id": "5075f626017433ed",
   "execution_count": 93
  },
  {
   "cell_type": "code",
   "outputs": [],
   "source": [
    "filename = 'GradientBoostingRegressor.pkl'\n",
    "pickle.dump(model, open(filename, 'wb')) "
   ],
   "metadata": {
    "collapsed": false,
    "ExecuteTime": {
     "end_time": "2024-05-26T14:08:41.080060300Z",
     "start_time": "2024-05-26T14:08:41.060568700Z"
    }
   },
   "id": "f22851bce5f21b73",
   "execution_count": 94
  },
  {
   "cell_type": "code",
   "outputs": [],
   "source": [],
   "metadata": {
    "collapsed": false,
    "ExecuteTime": {
     "end_time": "2024-05-26T14:08:41.084900900Z",
     "start_time": "2024-05-26T14:08:41.081059700Z"
    }
   },
   "id": "423ca1f2f4455f1f",
   "execution_count": 94
  }
 ],
 "metadata": {
  "kernelspec": {
   "display_name": "Python 3",
   "language": "python",
   "name": "python3"
  },
  "language_info": {
   "codemirror_mode": {
    "name": "ipython",
    "version": 2
   },
   "file_extension": ".py",
   "mimetype": "text/x-python",
   "name": "python",
   "nbconvert_exporter": "python",
   "pygments_lexer": "ipython2",
   "version": "2.7.6"
  }
 },
 "nbformat": 4,
 "nbformat_minor": 5
}
