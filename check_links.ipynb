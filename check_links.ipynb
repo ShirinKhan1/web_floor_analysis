{
 "cells": [
  {
   "cell_type": "code",
   "execution_count": 1,
   "id": "initial_id",
   "metadata": {
    "collapsed": true,
    "ExecuteTime": {
     "end_time": "2024-04-29T10:46:54.953810500Z",
     "start_time": "2024-04-29T10:46:54.644674400Z"
    }
   },
   "outputs": [],
   "source": [
    "import pandas as pd\n"
   ]
  },
  {
   "cell_type": "code",
   "outputs": [],
   "source": [
    "df = pd.read_csv('webanalysis/func/parse1_fixed.csv')"
   ],
   "metadata": {
    "collapsed": false,
    "ExecuteTime": {
     "end_time": "2024-04-29T10:47:41.392018400Z",
     "start_time": "2024-04-29T10:47:41.359205400Z"
    }
   },
   "id": "581b2715f059645e",
   "execution_count": 4
  },
  {
   "cell_type": "code",
   "outputs": [
    {
     "data": {
      "text/plain": "      Unnamed: 0    Тип дома  \\\n0              0  Монолитный   \n1              1  Монолитный   \n2              2  Монолитный   \n3              3   Кирпичный   \n4              4  Монолитный   \n...          ...         ...   \n1413        1413  Монолитный   \n1414        1414   Кирпичный   \n1415        1415   Кирпичный   \n1416        1416  Монолитный   \n1417        1417   Кирпичный   \n\n                                                 addres  \\\n0       Москва САО р-н Беговой Ленинградский просп. вл8   \n1     Москва ЦАО р-н Пресненский Московский междунар...   \n2     Москва ЦАО р-н Хамовники Коллекция Лужники жил...   \n3       Москва ЦАО р-н Пресненский Малая Бронная ул. 32   \n4           Москва Очаково микрорайон ОМ жилой комплекс   \n...                                                 ...   \n1413                                Москва пер. Даев 33   \n1414              Москва ЦАО р-н Арбат пер. Романов 3С1   \n1415        Москва ЦАО р-н Арбат Филипповский пер. 15/5   \n1416      Москва ЦАО р-н Хамовники Смоленский бул. 24к3   \n1417    Москва ЦАО р-н Мещанский Варсонофьевский пер. 6   \n\n                                          link             Тип жилья  \\\n0     https://www.cian.ru/sale/flat/292125772/           Новостройка   \n1     https://www.cian.ru/sale/flat/297733877/  Вторичка Апартаменты   \n2     https://www.cian.ru/sale/flat/295473855/           Новостройка   \n3     https://www.cian.ru/sale/flat/295370167/              Вторичка   \n4     https://www.cian.ru/sale/flat/298630307/           Новостройка   \n...                                        ...                   ...   \n1413  https://www.cian.ru/sale/flat/299244004/              Вторичка   \n1414  https://www.cian.ru/sale/flat/292752525/              Вторичка   \n1415  https://www.cian.ru/sale/flat/299414207/  Вторичка Апартаменты   \n1416  https://www.cian.ru/sale/flat/294515532/              Вторичка   \n1417  https://www.cian.ru/sale/flat/259258542/              Вторичка   \n\n                          Отопление  Год постройки  \\\n0                               NaN            NaN   \n1                               NaN            NaN   \n2                               NaN            NaN   \n3                       Центральное         1912.0   \n4                               NaN            NaN   \n...                             ...            ...   \n1413  Индивидуальный тепловой пункт         2005.0   \n1414                    Центральное         1899.0   \n1415                    Центральное         1905.0   \n1416  Индивидуальный тепловой пункт         2011.0   \n1417                    Центральное         1896.0   \n\n                                         name      Вид из окон      price  \\\n0                      1-комн. квартира, 39,6  На улицу и двор   29198535   \n1                  4-комн. апартаменты, 294,6         На улицу  489402836   \n2                      2-комн. квартира, 66,2              NaN   62910000   \n3                     3-комн. квартира, 110,5          Во двор   99000000   \n4                      2-комн. квартира, 41,6              NaN   17970826   \n...                                       ...              ...        ...   \n1413                  4-комн. квартира, 166,6  На улицу и двор  125000000   \n1414                  4-комн. квартира, 136,3              NaN  163000000   \n1415  Апартаменты свободной планировки, 282,6         На улицу   75000000   \n1416                    5-комн. квартира, 184          Во двор  165000000   \n1417                    5-комн. квартира, 223          Во двор  138583800   \n\n      ... Площадь кухни Мусоропровод Аварийность            Условия сделки  \\\n0     ...           NaN          NaN         NaN  долевое участие (214-ФЗ)   \n1     ...           NaN          NaN         NaN         свободная продажа   \n2     ...           NaN          NaN         NaN  долевое участие (214-ФЗ)   \n3     ...          15.0          Нет         Нет         свободная продажа   \n4     ...          15.3          NaN         NaN  долевое участие (214-ФЗ)   \n...   ...           ...          ...         ...                       ...   \n1413  ...           NaN           Да         Нет         свободная продажа   \n1414  ...           NaN          NaN         Нет         свободная продажа   \n1415  ...           NaN          NaN         Нет         свободная продажа   \n1416  ...           NaN          NaN         Нет         свободная продажа   \n1417  ...           NaN           Да         Нет         свободная продажа   \n\n      Тип перекрытий                      Санузел       Отделка   Ипотека  \\\n0                NaN                1 совмещенный   Без отделки  Возможна   \n1                NaN  3 совмещенных, 1 раздельный           NaN  Возможна   \n2                NaN                          NaN  Предчистовая  Возможна   \n3         Деревянные                2 совмещенных           NaN  Возможна   \n4                NaN                1 совмещенный           NaN  Возможна   \n...              ...                          ...           ...       ...   \n1413  Железобетонные                2 совмещенных           NaN       NaN   \n1414  Железобетонные  1 совмещенный, 1 раздельный           NaN  Возможна   \n1415       Смешанные                2 совмещенных           NaN  Возможна   \n1416  Железобетонные                3 совмещенных           NaN       NaN   \n1417  Железобетонные  2 совмещенных, 1 раздельный           NaN  Возможна   \n\n     Цена за метр         Парковка  \n0           737337       Подземная  \n1          1661245       Подземная  \n2           950302  Многоуровневая  \n3           895928        Наземная  \n4           431991       Подземная  \n...            ...             ...  \n1413        750300       Подземная  \n1414       1195891             NaN  \n1415        265393        Наземная  \n1416        896739             NaN  \n1417        621452       Подземная  \n\n[1418 rows x 30 columns]",
      "text/html": "<div>\n<style scoped>\n    .dataframe tbody tr th:only-of-type {\n        vertical-align: middle;\n    }\n\n    .dataframe tbody tr th {\n        vertical-align: top;\n    }\n\n    .dataframe thead th {\n        text-align: right;\n    }\n</style>\n<table border=\"1\" class=\"dataframe\">\n  <thead>\n    <tr style=\"text-align: right;\">\n      <th></th>\n      <th>Unnamed: 0</th>\n      <th>Тип дома</th>\n      <th>addres</th>\n      <th>link</th>\n      <th>Тип жилья</th>\n      <th>Отопление</th>\n      <th>Год постройки</th>\n      <th>name</th>\n      <th>Вид из окон</th>\n      <th>price</th>\n      <th>...</th>\n      <th>Площадь кухни</th>\n      <th>Мусоропровод</th>\n      <th>Аварийность</th>\n      <th>Условия сделки</th>\n      <th>Тип перекрытий</th>\n      <th>Санузел</th>\n      <th>Отделка</th>\n      <th>Ипотека</th>\n      <th>Цена за метр</th>\n      <th>Парковка</th>\n    </tr>\n  </thead>\n  <tbody>\n    <tr>\n      <th>0</th>\n      <td>0</td>\n      <td>Монолитный</td>\n      <td>Москва САО р-н Беговой Ленинградский просп. вл8</td>\n      <td>https://www.cian.ru/sale/flat/292125772/</td>\n      <td>Новостройка</td>\n      <td>NaN</td>\n      <td>NaN</td>\n      <td>1-комн. квартира, 39,6</td>\n      <td>На улицу и двор</td>\n      <td>29198535</td>\n      <td>...</td>\n      <td>NaN</td>\n      <td>NaN</td>\n      <td>NaN</td>\n      <td>долевое участие (214-ФЗ)</td>\n      <td>NaN</td>\n      <td>1 совмещенный</td>\n      <td>Без отделки</td>\n      <td>Возможна</td>\n      <td>737337</td>\n      <td>Подземная</td>\n    </tr>\n    <tr>\n      <th>1</th>\n      <td>1</td>\n      <td>Монолитный</td>\n      <td>Москва ЦАО р-н Пресненский Московский междунар...</td>\n      <td>https://www.cian.ru/sale/flat/297733877/</td>\n      <td>Вторичка Апартаменты</td>\n      <td>NaN</td>\n      <td>NaN</td>\n      <td>4-комн. апартаменты, 294,6</td>\n      <td>На улицу</td>\n      <td>489402836</td>\n      <td>...</td>\n      <td>NaN</td>\n      <td>NaN</td>\n      <td>NaN</td>\n      <td>свободная продажа</td>\n      <td>NaN</td>\n      <td>3 совмещенных, 1 раздельный</td>\n      <td>NaN</td>\n      <td>Возможна</td>\n      <td>1661245</td>\n      <td>Подземная</td>\n    </tr>\n    <tr>\n      <th>2</th>\n      <td>2</td>\n      <td>Монолитный</td>\n      <td>Москва ЦАО р-н Хамовники Коллекция Лужники жил...</td>\n      <td>https://www.cian.ru/sale/flat/295473855/</td>\n      <td>Новостройка</td>\n      <td>NaN</td>\n      <td>NaN</td>\n      <td>2-комн. квартира, 66,2</td>\n      <td>NaN</td>\n      <td>62910000</td>\n      <td>...</td>\n      <td>NaN</td>\n      <td>NaN</td>\n      <td>NaN</td>\n      <td>долевое участие (214-ФЗ)</td>\n      <td>NaN</td>\n      <td>NaN</td>\n      <td>Предчистовая</td>\n      <td>Возможна</td>\n      <td>950302</td>\n      <td>Многоуровневая</td>\n    </tr>\n    <tr>\n      <th>3</th>\n      <td>3</td>\n      <td>Кирпичный</td>\n      <td>Москва ЦАО р-н Пресненский Малая Бронная ул. 32</td>\n      <td>https://www.cian.ru/sale/flat/295370167/</td>\n      <td>Вторичка</td>\n      <td>Центральное</td>\n      <td>1912.0</td>\n      <td>3-комн. квартира, 110,5</td>\n      <td>Во двор</td>\n      <td>99000000</td>\n      <td>...</td>\n      <td>15.0</td>\n      <td>Нет</td>\n      <td>Нет</td>\n      <td>свободная продажа</td>\n      <td>Деревянные</td>\n      <td>2 совмещенных</td>\n      <td>NaN</td>\n      <td>Возможна</td>\n      <td>895928</td>\n      <td>Наземная</td>\n    </tr>\n    <tr>\n      <th>4</th>\n      <td>4</td>\n      <td>Монолитный</td>\n      <td>Москва Очаково микрорайон ОМ жилой комплекс</td>\n      <td>https://www.cian.ru/sale/flat/298630307/</td>\n      <td>Новостройка</td>\n      <td>NaN</td>\n      <td>NaN</td>\n      <td>2-комн. квартира, 41,6</td>\n      <td>NaN</td>\n      <td>17970826</td>\n      <td>...</td>\n      <td>15.3</td>\n      <td>NaN</td>\n      <td>NaN</td>\n      <td>долевое участие (214-ФЗ)</td>\n      <td>NaN</td>\n      <td>1 совмещенный</td>\n      <td>NaN</td>\n      <td>Возможна</td>\n      <td>431991</td>\n      <td>Подземная</td>\n    </tr>\n    <tr>\n      <th>...</th>\n      <td>...</td>\n      <td>...</td>\n      <td>...</td>\n      <td>...</td>\n      <td>...</td>\n      <td>...</td>\n      <td>...</td>\n      <td>...</td>\n      <td>...</td>\n      <td>...</td>\n      <td>...</td>\n      <td>...</td>\n      <td>...</td>\n      <td>...</td>\n      <td>...</td>\n      <td>...</td>\n      <td>...</td>\n      <td>...</td>\n      <td>...</td>\n      <td>...</td>\n      <td>...</td>\n    </tr>\n    <tr>\n      <th>1413</th>\n      <td>1413</td>\n      <td>Монолитный</td>\n      <td>Москва пер. Даев 33</td>\n      <td>https://www.cian.ru/sale/flat/299244004/</td>\n      <td>Вторичка</td>\n      <td>Индивидуальный тепловой пункт</td>\n      <td>2005.0</td>\n      <td>4-комн. квартира, 166,6</td>\n      <td>На улицу и двор</td>\n      <td>125000000</td>\n      <td>...</td>\n      <td>NaN</td>\n      <td>Да</td>\n      <td>Нет</td>\n      <td>свободная продажа</td>\n      <td>Железобетонные</td>\n      <td>2 совмещенных</td>\n      <td>NaN</td>\n      <td>NaN</td>\n      <td>750300</td>\n      <td>Подземная</td>\n    </tr>\n    <tr>\n      <th>1414</th>\n      <td>1414</td>\n      <td>Кирпичный</td>\n      <td>Москва ЦАО р-н Арбат пер. Романов 3С1</td>\n      <td>https://www.cian.ru/sale/flat/292752525/</td>\n      <td>Вторичка</td>\n      <td>Центральное</td>\n      <td>1899.0</td>\n      <td>4-комн. квартира, 136,3</td>\n      <td>NaN</td>\n      <td>163000000</td>\n      <td>...</td>\n      <td>NaN</td>\n      <td>NaN</td>\n      <td>Нет</td>\n      <td>свободная продажа</td>\n      <td>Железобетонные</td>\n      <td>1 совмещенный, 1 раздельный</td>\n      <td>NaN</td>\n      <td>Возможна</td>\n      <td>1195891</td>\n      <td>NaN</td>\n    </tr>\n    <tr>\n      <th>1415</th>\n      <td>1415</td>\n      <td>Кирпичный</td>\n      <td>Москва ЦАО р-н Арбат Филипповский пер. 15/5</td>\n      <td>https://www.cian.ru/sale/flat/299414207/</td>\n      <td>Вторичка Апартаменты</td>\n      <td>Центральное</td>\n      <td>1905.0</td>\n      <td>Апартаменты свободной планировки, 282,6</td>\n      <td>На улицу</td>\n      <td>75000000</td>\n      <td>...</td>\n      <td>NaN</td>\n      <td>NaN</td>\n      <td>Нет</td>\n      <td>свободная продажа</td>\n      <td>Смешанные</td>\n      <td>2 совмещенных</td>\n      <td>NaN</td>\n      <td>Возможна</td>\n      <td>265393</td>\n      <td>Наземная</td>\n    </tr>\n    <tr>\n      <th>1416</th>\n      <td>1416</td>\n      <td>Монолитный</td>\n      <td>Москва ЦАО р-н Хамовники Смоленский бул. 24к3</td>\n      <td>https://www.cian.ru/sale/flat/294515532/</td>\n      <td>Вторичка</td>\n      <td>Индивидуальный тепловой пункт</td>\n      <td>2011.0</td>\n      <td>5-комн. квартира, 184</td>\n      <td>Во двор</td>\n      <td>165000000</td>\n      <td>...</td>\n      <td>NaN</td>\n      <td>NaN</td>\n      <td>Нет</td>\n      <td>свободная продажа</td>\n      <td>Железобетонные</td>\n      <td>3 совмещенных</td>\n      <td>NaN</td>\n      <td>NaN</td>\n      <td>896739</td>\n      <td>NaN</td>\n    </tr>\n    <tr>\n      <th>1417</th>\n      <td>1417</td>\n      <td>Кирпичный</td>\n      <td>Москва ЦАО р-н Мещанский Варсонофьевский пер. 6</td>\n      <td>https://www.cian.ru/sale/flat/259258542/</td>\n      <td>Вторичка</td>\n      <td>Центральное</td>\n      <td>1896.0</td>\n      <td>5-комн. квартира, 223</td>\n      <td>Во двор</td>\n      <td>138583800</td>\n      <td>...</td>\n      <td>NaN</td>\n      <td>Да</td>\n      <td>Нет</td>\n      <td>свободная продажа</td>\n      <td>Железобетонные</td>\n      <td>2 совмещенных, 1 раздельный</td>\n      <td>NaN</td>\n      <td>Возможна</td>\n      <td>621452</td>\n      <td>Подземная</td>\n    </tr>\n  </tbody>\n</table>\n<p>1418 rows × 30 columns</p>\n</div>"
     },
     "execution_count": 5,
     "metadata": {},
     "output_type": "execute_result"
    }
   ],
   "source": [
    "df"
   ],
   "metadata": {
    "collapsed": false,
    "ExecuteTime": {
     "end_time": "2024-04-29T10:47:43.786868400Z",
     "start_time": "2024-04-29T10:47:43.751701900Z"
    }
   },
   "id": "ac98a784cf84d949",
   "execution_count": 5
  },
  {
   "cell_type": "code",
   "outputs": [
    {
     "name": "stdout",
     "output_type": "stream",
     "text": [
      "<class 'pandas.core.frame.DataFrame'>\n",
      "RangeIndex: 1418 entries, 0 to 1417\n",
      "Data columns (total 30 columns):\n",
      " #   Column              Non-Null Count  Dtype  \n",
      "---  ------              --------------  -----  \n",
      " 0   Unnamed: 0          1418 non-null   int64  \n",
      " 1   Тип дома            1223 non-null   object \n",
      " 2   addres              1418 non-null   object \n",
      " 3   link                1418 non-null   object \n",
      " 4   Тип жилья           1418 non-null   object \n",
      " 5   Отопление           791 non-null    object \n",
      " 6   Год постройки       787 non-null    float64\n",
      " 7   name                1418 non-null   object \n",
      " 8   Вид из окон         953 non-null    object \n",
      " 9   price               1418 non-null   int64  \n",
      " 10  Газоснабжение       142 non-null    object \n",
      " 11  Строительная серия  534 non-null    object \n",
      " 12  Ремонт              946 non-null    object \n",
      " 13  Общая площадь       1418 non-null   float64\n",
      " 14  Балкон/лоджия       395 non-null    object \n",
      " 15  Подъезды            660 non-null    float64\n",
      " 16  Жилая площадь       812 non-null    float64\n",
      " 17  Количество лифтов   955 non-null    object \n",
      " 18  floor               1418 non-null   object \n",
      " 19  Высота потолков     1034 non-null   float64\n",
      " 20  Площадь кухни       1000 non-null   float64\n",
      " 21  Мусоропровод        276 non-null    object \n",
      " 22  Аварийность         791 non-null    object \n",
      " 23  Условия сделки      1418 non-null   object \n",
      " 24  Тип перекрытий      791 non-null    object \n",
      " 25  Санузел             1068 non-null   object \n",
      " 26  Отделка             285 non-null    object \n",
      " 27  Ипотека             847 non-null    object \n",
      " 28  Цена за метр        1418 non-null   int64  \n",
      " 29  Парковка            903 non-null    object \n",
      "dtypes: float64(6), int64(3), object(21)\n",
      "memory usage: 332.5+ KB\n"
     ]
    }
   ],
   "source": [
    "df.info()"
   ],
   "metadata": {
    "collapsed": false,
    "ExecuteTime": {
     "end_time": "2024-04-15T18:18:07.604937600Z",
     "start_time": "2024-04-15T18:18:07.596056900Z"
    }
   },
   "id": "8ee31b8a75b531cd",
   "execution_count": 10
  },
  {
   "cell_type": "code",
   "outputs": [],
   "source": [
    "сol_to_drop = ['Вид из окон', 'Подъезды', 'Газоснабжение']\n",
    "df.drop(columns=сol_to_drop, inplace=True)"
   ],
   "metadata": {
    "collapsed": false,
    "ExecuteTime": {
     "end_time": "2024-04-21T12:55:08.542783800Z",
     "start_time": "2024-04-21T12:55:08.532003100Z"
    }
   },
   "id": "816371f5bcc1c15c",
   "execution_count": 5
  },
  {
   "cell_type": "code",
   "outputs": [
    {
     "name": "stdout",
     "output_type": "stream",
     "text": [
      "<class 'pandas.core.frame.DataFrame'>\n",
      "RangeIndex: 1418 entries, 0 to 1417\n",
      "Data columns (total 27 columns):\n",
      " #   Column              Non-Null Count  Dtype  \n",
      "---  ------              --------------  -----  \n",
      " 0   Unnamed: 0          1418 non-null   int64  \n",
      " 1   Тип дома            1223 non-null   object \n",
      " 2   addres              1418 non-null   object \n",
      " 3   link                1418 non-null   object \n",
      " 4   Тип жилья           1418 non-null   object \n",
      " 5   Отопление           791 non-null    object \n",
      " 6   Год постройки       787 non-null    float64\n",
      " 7   name                1418 non-null   object \n",
      " 8   price               1418 non-null   int64  \n",
      " 9   Строительная серия  534 non-null    object \n",
      " 10  Ремонт              946 non-null    object \n",
      " 11  Общая площадь       1418 non-null   float64\n",
      " 12  Балкон/лоджия       395 non-null    object \n",
      " 13  Жилая площадь       812 non-null    float64\n",
      " 14  Количество лифтов   955 non-null    object \n",
      " 15  floor               1418 non-null   object \n",
      " 16  Высота потолков     1034 non-null   float64\n",
      " 17  Площадь кухни       1000 non-null   float64\n",
      " 18  Мусоропровод        276 non-null    object \n",
      " 19  Аварийность         791 non-null    object \n",
      " 20  Условия сделки      1418 non-null   object \n",
      " 21  Тип перекрытий      791 non-null    object \n",
      " 22  Санузел             1068 non-null   object \n",
      " 23  Отделка             285 non-null    object \n",
      " 24  Ипотека             847 non-null    object \n",
      " 25  Цена за метр        1418 non-null   int64  \n",
      " 26  Парковка            903 non-null    object \n",
      "dtypes: float64(5), int64(3), object(19)\n",
      "memory usage: 299.2+ KB\n"
     ]
    }
   ],
   "source": [
    "df.info()"
   ],
   "metadata": {
    "collapsed": false,
    "ExecuteTime": {
     "end_time": "2024-04-21T12:55:28.247272200Z",
     "start_time": "2024-04-21T12:55:28.237500Z"
    }
   },
   "id": "84dd95cdaa39f424",
   "execution_count": 6
  },
  {
   "cell_type": "code",
   "outputs": [],
   "source": [],
   "metadata": {
    "collapsed": false
   },
   "id": "95dad3fc1aaba635"
  }
 ],
 "metadata": {
  "kernelspec": {
   "display_name": "Python 3",
   "language": "python",
   "name": "python3"
  },
  "language_info": {
   "codemirror_mode": {
    "name": "ipython",
    "version": 2
   },
   "file_extension": ".py",
   "mimetype": "text/x-python",
   "name": "python",
   "nbconvert_exporter": "python",
   "pygments_lexer": "ipython2",
   "version": "2.7.6"
  }
 },
 "nbformat": 4,
 "nbformat_minor": 5
}
