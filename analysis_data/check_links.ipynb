{
 "cells": [
  {
   "cell_type": "code",
   "execution_count": 14,
   "id": "initial_id",
   "metadata": {
    "collapsed": true,
    "ExecuteTime": {
     "end_time": "2024-03-27T08:16:17.901309Z",
     "start_time": "2024-03-27T08:16:17.895699Z"
    }
   },
   "outputs": [],
   "source": [
    "import pandas as pd\n",
    "path = r'C:\\Users\\rshir\\web_floor_analysis\\func\\links.csv'"
   ]
  },
  {
   "cell_type": "code",
   "outputs": [],
   "source": [
    "df = pd.read_csv(path)"
   ],
   "metadata": {
    "collapsed": false,
    "ExecuteTime": {
     "end_time": "2024-03-27T08:16:18.185101Z",
     "start_time": "2024-03-27T08:16:18.170299Z"
    }
   },
   "id": "581b2715f059645e",
   "execution_count": 15
  },
  {
   "cell_type": "code",
   "outputs": [],
   "source": [
    "df.drop_duplicates(subset=None, inplace=True)"
   ],
   "metadata": {
    "collapsed": false,
    "ExecuteTime": {
     "end_time": "2024-03-27T08:16:18.511240Z",
     "start_time": "2024-03-27T08:16:18.502773Z"
    }
   },
   "id": "63419ac180443ec2",
   "execution_count": 16
  },
  {
   "cell_type": "code",
   "outputs": [
    {
     "data": {
      "text/plain": "1459"
     },
     "execution_count": 17,
     "metadata": {},
     "output_type": "execute_result"
    }
   ],
   "source": [
    "len(df)"
   ],
   "metadata": {
    "collapsed": false,
    "ExecuteTime": {
     "end_time": "2024-03-27T08:16:18.825705Z",
     "start_time": "2024-03-27T08:16:18.814870Z"
    }
   },
   "id": "ac98a784cf84d949",
   "execution_count": 17
  },
  {
   "cell_type": "code",
   "outputs": [],
   "source": [
    "df.to_csv(path)"
   ],
   "metadata": {
    "collapsed": false,
    "ExecuteTime": {
     "end_time": "2024-03-27T08:16:19.836628Z",
     "start_time": "2024-03-27T08:16:19.816321Z"
    }
   },
   "id": "fd02d894f2ce1274",
   "execution_count": 18
  },
  {
   "cell_type": "code",
   "outputs": [],
   "source": [],
   "metadata": {
    "collapsed": false
   },
   "id": "8ee31b8a75b531cd"
  }
 ],
 "metadata": {
  "kernelspec": {
   "display_name": "Python 3",
   "language": "python",
   "name": "python3"
  },
  "language_info": {
   "codemirror_mode": {
    "name": "ipython",
    "version": 2
   },
   "file_extension": ".py",
   "mimetype": "text/x-python",
   "name": "python",
   "nbconvert_exporter": "python",
   "pygments_lexer": "ipython2",
   "version": "2.7.6"
  }
 },
 "nbformat": 4,
 "nbformat_minor": 5
}
